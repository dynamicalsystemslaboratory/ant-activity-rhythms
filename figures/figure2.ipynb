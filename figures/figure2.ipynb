{
 "cells": [
  {
   "cell_type": "code",
   "execution_count": 1,
   "metadata": {},
   "outputs": [],
   "source": [
    "from figures import *\n",
    "\n",
    "import matplotlib.ticker as mticker"
   ]
  },
  {
   "cell_type": "code",
   "execution_count": 2,
   "metadata": {},
   "outputs": [
    {
     "name": "stdout",
     "output_type": "stream",
     "text": [
      "Colony ID: [10 13 22 21 18 14  1  9 34  0 29  4 17 26 27 35  8 20 31 32 30  5  7 11  6 19 25  2 33]\n"
     ]
    }
   ],
   "source": [
    "# Import and unpack colony-level data.\n",
    "colony = 'EGTi'\n",
    "colonyfilelist, (colonynum, Nlist), (dt, tlist, adata) = importcolonydata( colony )\n",
    "\n",
    "# Sort out bad colonies.\n",
    "# colonybad = [26, 31, 11]\n",
    "colonybad = [3, 12, 15, 16, 23, 24, 28]\n",
    "\n",
    "# Sort colonies and remove outliers.\n",
    "colonynum = np.setdiff1d( np.argsort( Nlist ), colonybad, assume_unique=True )\n",
    "Nlist = Nlist[colonynum]\n",
    "adata = adata[colonynum]\n",
    "print( 'Colony ID:', colonynum )\n",
    "\n",
    "# Created sorted popultion list.\n",
    "Nsort = 10**np.linspace( 1,3,100 )"
   ]
  },
  {
   "cell_type": "code",
   "execution_count": 3,
   "metadata": {},
   "outputs": [],
   "source": [
    "# Create metric function list for iterating.\n",
    "metriclist = (dominantperiod, peakvalleydifference)"
   ]
  },
  {
   "cell_type": "code",
   "execution_count": 4,
   "metadata": {},
   "outputs": [
    {
     "name": "stdout",
     "output_type": "stream",
     "text": [
      "-0.0475523425314969 [-0.185  0.09 ]\n",
      "0.7644562320326685 [0.672 0.857]\n",
      "[]\n"
     ]
    }
   ],
   "source": [
    "# Compute metrics over the colony-level data.\n",
    "n = 3\n",
    "mdata = np.array( [metric( adata ) for metric in metriclist[:n]] )\n",
    "\n",
    "# Perform scaling for each of the metric functions.\n",
    "fitlist = [fitscalinglaw(Nlist, Nlist*mlist if i > 0 else mlist) for i, mlist in enumerate( mdata )]\n",
    "\n",
    "# Print coefficients and outcomes.\n",
    "for fit in fitlist:\n",
    "    print( fit.params[1], fit.conf_int()[1] )\n",
    "\n",
    "# Print bad colonies.\n",
    "print( colonynum[mdata[0] > 800] )"
   ]
  },
  {
   "cell_type": "code",
   "execution_count": 5,
   "metadata": {},
   "outputs": [
    {
     "name": "stdout",
     "output_type": "stream",
     "text": [
      "1.0 3.0\n",
      "0.0 3.0\n"
     ]
    },
    {
     "data": {
      "image/png": "[encoded data removed]",
      "text/plain": [
       "<Figure size 750x250 with 2 Axes>"
      ]
     },
     "metadata": {},
     "output_type": "display_data"
    }
   ],
   "source": [
    "markerlist = ('(a)', '(b)', '(c)', '(d)', '(e)')\n",
    "metriclabel = (\n",
    "    'oscillation\\nperiod (min)',\n",
    "    'mean burst\\nheight',\n",
    "    'mean activity',\n",
    "    'mean valley height',\n",
    "    'peak height',\n",
    "    )\n",
    "\n",
    "# Plot the results of the fits.\n",
    "fig, axs = plt.subplots( 1,len( mdata ), sharex=True )\n",
    "axs = axs if len( mdata ) > 1 else [axs]\n",
    "\n",
    "for i, a in enumerate( axs ):\n",
    "    metric = metriclist[i]\n",
    "    fit = fitlist[i]\n",
    "    mlist = mdata[i]\n",
    "\n",
    "    alpha, phi = fit.params\n",
    "    alphadn, alphaup = fit.conf_int()[0]\n",
    "    betadn, betaup = fit.conf_int()[1]\n",
    "\n",
    "    ylist = Nlist*mlist if i > 0 else mlist\n",
    "    ysort = np.exp( alpha )*Nsort**phi\n",
    "    ydn = np.exp( alphadn )*Nsort**betadn\n",
    "    yup = np.exp( alphaup )*Nsort**betaup\n",
    "\n",
    "    a.scatter( Nlist, ylist, color='grey' )\n",
    "    a.plot( Nsort, ysort, color='k' )\n",
    "    a.fill_between( Nsort, ydn, yup, color='grey', alpha=1/3, zorder=0 )\n",
    "\n",
    "    nmax = np.ceil(  np.max( np.log10( yup ) ) )\n",
    "    nmin = np.floor( np.min( np.log10( ydn ) ) )\n",
    "    print( nmin, nmax )\n",
    "\n",
    "    a.text( 12, 0.75*10**nmax, markerlist[i],\n",
    "        fontsize=16, va='top', ha='left' )\n",
    "    a.text( 450, 10**nmin + 0.02*(10**(nmin+1) - 10**nmin),\n",
    "        '$\\\\varphi = %.3f [%.3f, %.3f]$' % (phi, betadn, betaup),\n",
    "        fontsize=12, va='bottom', ha='right' )\n",
    "\n",
    "    a.set_ylim( [10**nmin, 10**nmax] )\n",
    "\n",
    "    a.set_ylabel( metriclabel[i] )\n",
    "\n",
    "    a.set_xscale( 'log' )\n",
    "    a.set_yscale( 'log' )\n",
    "\n",
    "xticks = [10, 50, 100, 500]\n",
    "axs[-1].set_xlim( [min( xticks), max( xticks )] )\n",
    "axs[-1].set_xticks( xticks, xticks )\n",
    "\n",
    "for a in axs:\n",
    "    a.set_xlabel( 'colony size, $N$' )\n",
    "    a.xaxis.set_major_formatter( mticker.ScalarFormatter() )\n",
    "    a.yaxis.set_major_formatter( mticker.ScalarFormatter() )\n",
    "    a.yaxis.set_label_coords( -0.25, 0.5 )\n",
    "\n",
    "fig.set_figwidth( 7.5 )\n",
    "fig.set_figheight( 2.5 )\n",
    "fig.tight_layout()\n",
    "\n",
    "if 0:\n",
    "    savefigure( fig, 'experiments/' + colony + '_activity_scaling' )"
   ]
  }
 ],
 "metadata": {
  "kernelspec": {
   "display_name": "base",
   "language": "python",
   "name": "python3"
  },
  "language_info": {
   "codemirror_mode": {
    "name": "ipython",
    "version": 3
   },
   "file_extension": ".py",
   "mimetype": "text/x-python",
   "name": "python",
   "nbconvert_exporter": "python",
   "pygments_lexer": "ipython3",
   "version": "3.12.4"
  }
 },
 "nbformat": 4,
 "nbformat_minor": 2
}
